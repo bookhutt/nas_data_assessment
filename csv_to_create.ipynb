{
 "cells": [
  {
   "cell_type": "code",
   "execution_count": 1,
   "id": "f86a0931",
   "metadata": {},
   "outputs": [],
   "source": [
    "import pandas as pd"
   ]
  },
  {
   "cell_type": "code",
   "execution_count": 25,
   "id": "15e64321",
   "metadata": {},
   "outputs": [],
   "source": [
    "# script to turn csv file into a sql query creating a table based on that file\n",
    "def csv_to_create(your_csv_file, new_table_name):\n",
    "    data = pd.read_csv(your_csv_file)\n",
    "    data.columns = data.columns.str.lower().str.replace(' ', '_').str.replace('-', '_').str.replace('+', '_plus')\n",
    "    table_name = new_table_name\n",
    "    sql_script = f\"CREATE TABLE {table_name} (\\n\"\n",
    "    for column in data.columns:\n",
    "        column_type = data[column].dtype\n",
    "        if column_type == 'object':\n",
    "            column_type = 'TEXT'\n",
    "        elif column_type == 'int64':\n",
    "            column_type = 'INTEGER'\n",
    "        elif column_type == 'float64':\n",
    "            column_type = 'REAL'\n",
    "        sql_script += f\"    {column} {column_type},\\n\"\n",
    "    sql_script = sql_script.rstrip(',\\n')  # Remove the trailing comma\n",
    "    sql_script += \"\\n);\"\n",
    "    print(sql_script)\n",
    "    "
   ]
  },
  {
   "cell_type": "code",
   "execution_count": 30,
   "id": "15efacf4",
   "metadata": {},
   "outputs": [
    {
     "name": "stdout",
     "output_type": "stream",
     "text": [
      "CREATE TABLE acs2017_county_data (\n",
      "    countyid INTEGER,\n",
      "    state TEXT,\n",
      "    county TEXT,\n",
      "    totalpop INTEGER,\n",
      "    men INTEGER,\n",
      "    women INTEGER,\n",
      "    hispanic REAL,\n",
      "    white REAL,\n",
      "    black REAL,\n",
      "    native REAL,\n",
      "    asian REAL,\n",
      "    pacific REAL,\n",
      "    votingagecitizen INTEGER,\n",
      "    income INTEGER,\n",
      "    incomeerr INTEGER,\n",
      "    incomepercap INTEGER,\n",
      "    incomepercaperr INTEGER,\n",
      "    poverty REAL,\n",
      "    childpoverty REAL,\n",
      "    professional REAL,\n",
      "    service REAL,\n",
      "    office REAL,\n",
      "    construction REAL,\n",
      "    production REAL,\n",
      "    drive REAL,\n",
      "    carpool REAL,\n",
      "    transit REAL,\n",
      "    walk REAL,\n",
      "    othertransp REAL,\n",
      "    workathome REAL,\n",
      "    meancommute REAL,\n",
      "    employed INTEGER,\n",
      "    privatework REAL,\n",
      "    publicwork REAL,\n",
      "    selfemployed REAL,\n",
      "    familywork REAL,\n",
      "    unemployment REAL\n",
      ");\n"
     ]
    },
    {
     "name": "stderr",
     "output_type": "stream",
     "text": [
      "C:\\Users\\bookhutt\\AppData\\Local\\Temp\\ipykernel_1752\\2051787378.py:4: FutureWarning: The default value of regex will change from True to False in a future version. In addition, single character regular expressions will *not* be treated as literal strings when regex=True.\n",
      "  data.columns = data.columns.str.lower().str.replace(' ', '_').str.replace('-', '_').str.replace('+', '_plus')\n"
     ]
    }
   ],
   "source": [
    "csv_to_create('acs2017_county_data.csv', 'acs2017_county_data')"
   ]
  },
  {
   "cell_type": "code",
   "execution_count": 2,
   "id": "92f1b689",
   "metadata": {},
   "outputs": [
    {
     "name": "stdout",
     "output_type": "stream",
     "text": [
      "CREATE TABLE new_table (\n",
      "    state TEXT,\n",
      "    tested INTEGER,\n",
      "    infected INTEGER,\n",
      "    deaths INTEGER,\n",
      "    population INTEGER,\n",
      "    pop_density REAL,\n",
      "    gini REAL,\n",
      "    icu_beds INTEGER,\n",
      "    income INTEGER,\n",
      "    gdp INTEGER,\n",
      "    unemployment REAL,\n",
      "    sex_ratio REAL,\n",
      "    smoking_rate REAL,\n",
      "    flu_deaths REAL,\n",
      "    respiratory_deaths REAL,\n",
      "    physicians INTEGER,\n",
      "    hospitals INTEGER,\n",
      "    health_spending INTEGER,\n",
      "    pollution REAL,\n",
      "    med-large_airports REAL,\n",
      "    temperature REAL,\n",
      "    urban REAL,\n",
      "    age_0-25 REAL,\n",
      "    age_26-54 REAL,\n",
      "    age_55+ REAL,\n",
      "    school_closure_date TEXT\n",
      ");\n"
     ]
    }
   ],
   "source": [
    "# Import the CSV file\n",
    "data = pd.read_csv('COVID19_state.csv')\n",
    "\n",
    "# Modify column labels to lower case with underscores\n",
    "data.columns = data.columns.str.lower().str.replace(' ', '_')\n",
    "\n",
    "# Generate SQL script for table creation\n",
    "table_name = 'new_table'\n",
    "sql_script = f\"CREATE TABLE {table_name} (\\n\"\n",
    "for column in data.columns:\n",
    "    column_type = data[column].dtype\n",
    "    if column_type == 'object':\n",
    "        column_type = 'TEXT'\n",
    "    elif column_type == 'int64':\n",
    "        column_type = 'INTEGER'\n",
    "    elif column_type == 'float64':\n",
    "        column_type = 'REAL'\n",
    "    sql_script += f\"    {column} {column_type},\\n\"\n",
    "sql_script = sql_script.rstrip(',\\n')  # Remove the trailing comma\n",
    "sql_script += \"\\n);\"\n",
    "\n",
    "# Print the SQL script\n",
    "print(sql_script)"
   ]
  },
  {
   "cell_type": "code",
   "execution_count": null,
   "id": "48232cc3",
   "metadata": {},
   "outputs": [],
   "source": [
    "# Modify column labels to lower case with underscores\n",
    "data.columns = data.columns.str.lower().str.replace(' ', '_')\n",
    "\n",
    "# Generate SQL script for table creation\n",
    "table_name = 'new_table'\n",
    "sql_script = f\"CREATE TABLE {table_name} (\\n\"\n",
    "for column in data.columns:\n",
    "    column_type = data[column].dtype\n",
    "    if column_type == 'object':\n",
    "        column_type = 'TEXT'\n",
    "    elif column_type == 'int64':\n",
    "        column_type = 'INTEGER'\n",
    "    elif column_type == 'float64':\n",
    "        column_type = 'REAL'\n",
    "    sql_script += f\"    {column} {column_type},\\n\"\n",
    "sql_script = sql_script.rstrip(',\\n')  # Remove the trailing comma\n",
    "sql_script += \"\\n);\"\n",
    "\n",
    "# Print the SQL script\n",
    "print(sql_script)\n",
    "Make sure to replace 'your_file.csv' with the path to your actual CSV file. The code will read the CSV file using pandas, modify the column labels to lower case with underscores, and generate a SQL script to create a new table.\n",
    "\n",
    "You can adjust the script as per your specific requirements, such as modifying the column types based on the data in your CSV file. The script assumes that non-numeric columns are of type TEXT, integer columns are of type INTEGER, and float columns are of type REAL. You can modify these mappings as needed.\n",
    "\n",
    "After running the script, you will have the SQL script printed in the console. You can copy and execute this script in your PostgreSQL database using DataGrip or any other SQL client to create the new table with each column from the CSV file.\n",
    "\n",
    "\n",
    "\n",
    "\n",
    "\n",
    "\n"
   ]
  }
 ],
 "metadata": {
  "kernelspec": {
   "display_name": "Python 3 (ipykernel)",
   "language": "python",
   "name": "python3"
  },
  "language_info": {
   "codemirror_mode": {
    "name": "ipython",
    "version": 3
   },
   "file_extension": ".py",
   "mimetype": "text/x-python",
   "name": "python",
   "nbconvert_exporter": "python",
   "pygments_lexer": "ipython3",
   "version": "3.9.13"
  }
 },
 "nbformat": 4,
 "nbformat_minor": 5
}
